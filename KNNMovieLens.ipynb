{
 "cells": [
  {
   "cell_type": "code",
   "execution_count": 1,
   "metadata": {
    "collapsed": true,
    "pycharm": {
     "is_executing": false
    }
   },
   "outputs": [],
   "source": [
    "import numpy as np\n",
    "import pandas as pd\n",
    "import matplotlib.pyplot as plt\n",
    "%matplotlib inline"
   ]
  },
  {
   "cell_type": "code",
   "execution_count": 2,
   "outputs": [
    {
     "data": {
      "text/plain": "   user_id  movie_id  rating\n0      196       242       3\n1      186       302       3\n2       22       377       1\n3      244        51       2\n4      166       346       1",
      "text/html": "<div>\n<style scoped>\n    .dataframe tbody tr th:only-of-type {\n        vertical-align: middle;\n    }\n\n    .dataframe tbody tr th {\n        vertical-align: top;\n    }\n\n    .dataframe thead th {\n        text-align: right;\n    }\n</style>\n<table border=\"1\" class=\"dataframe\">\n  <thead>\n    <tr style=\"text-align: right;\">\n      <th></th>\n      <th>user_id</th>\n      <th>movie_id</th>\n      <th>rating</th>\n    </tr>\n  </thead>\n  <tbody>\n    <tr>\n      <th>0</th>\n      <td>196</td>\n      <td>242</td>\n      <td>3</td>\n    </tr>\n    <tr>\n      <th>1</th>\n      <td>186</td>\n      <td>302</td>\n      <td>3</td>\n    </tr>\n    <tr>\n      <th>2</th>\n      <td>22</td>\n      <td>377</td>\n      <td>1</td>\n    </tr>\n    <tr>\n      <th>3</th>\n      <td>244</td>\n      <td>51</td>\n      <td>2</td>\n    </tr>\n    <tr>\n      <th>4</th>\n      <td>166</td>\n      <td>346</td>\n      <td>1</td>\n    </tr>\n  </tbody>\n</table>\n</div>"
     },
     "metadata": {},
     "output_type": "execute_result",
     "execution_count": 2
    }
   ],
   "source": [
    "cols = ['user_id', 'movie_id', 'rating']\n",
    "ratings = pd.read_csv(\"/home/terrence/Projects/PycharmProjects/MachineLeaningTut/data/ml-100k/u.data\", \n",
    "                      sep='\\t', names=cols, usecols=range(3))\n",
    "ratings.head()"
   ],
   "metadata": {
    "collapsed": false,
    "pycharm": {
     "name": "#%%\n",
     "is_executing": false
    }
   }
  },
  {
   "cell_type": "code",
   "execution_count": 4,
   "outputs": [
    {
     "data": {
      "text/plain": "              size\nmovie_id          \n1         0.774914\n2         0.223368\n3         0.152921\n4         0.357388\n5         0.146048",
      "text/html": "<div>\n<style scoped>\n    .dataframe tbody tr th:only-of-type {\n        vertical-align: middle;\n    }\n\n    .dataframe tbody tr th {\n        vertical-align: top;\n    }\n\n    .dataframe thead th {\n        text-align: right;\n    }\n</style>\n<table border=\"1\" class=\"dataframe\">\n  <thead>\n    <tr style=\"text-align: right;\">\n      <th></th>\n      <th>size</th>\n    </tr>\n    <tr>\n      <th>movie_id</th>\n      <th></th>\n    </tr>\n  </thead>\n  <tbody>\n    <tr>\n      <th>1</th>\n      <td>0.774914</td>\n    </tr>\n    <tr>\n      <th>2</th>\n      <td>0.223368</td>\n    </tr>\n    <tr>\n      <th>3</th>\n      <td>0.152921</td>\n    </tr>\n    <tr>\n      <th>4</th>\n      <td>0.357388</td>\n    </tr>\n    <tr>\n      <th>5</th>\n      <td>0.146048</td>\n    </tr>\n  </tbody>\n</table>\n</div>"
     },
     "metadata": {},
     "output_type": "execute_result",
     "execution_count": 4
    }
   ],
   "source": [
    "movie_properties = ratings.groupby('movie_id').agg({'rating': [np.size, np.mean]})\n",
    "movie_properties.tail()\n",
    "movie_num_ratings = pd.DataFrame(movie_properties['rating']['size'])\n",
    "movie_normalized_num_ratings = movie_num_ratings.apply(lambda x: (x - np.min(x))/(np.max(x) - np.min(x)))\n",
    "movie_normalized_num_ratings.head()"
   ],
   "metadata": {
    "collapsed": false,
    "pycharm": {
     "name": "#%%\n",
     "is_executing": false
    }
   }
  },
  {
   "cell_type": "code",
   "execution_count": null,
   "outputs": [],
   "source": [
    "movie_dict = {}\n",
    "\n",
    "with open(r'u.item') as f:\n",
    "    temp = ''\n",
    "    fields = line.rstrip('\\n').split('|')\n",
    "    movie_id = int(fields[0])\n",
    "    name = fields[1]\n",
    "    genres = fields[5:25]\n",
    "    genres = map(int, genres)\n",
    "    \n",
    "    movie_dict[movie_id] = (name, genres, movie_normalized_num_ratings.loc[movie_id].get('size'),\n",
    "                            movie_properties.loc[movie_id].rating)\n",
    "\n"
   ],
   "metadata": {
    "collapsed": false,
    "pycharm": {
     "name": "#%%\n"
    }
   }
  }
 ],
 "metadata": {
  "language_info": {
   "codemirror_mode": {
    "name": "ipython",
    "version": 2
   },
   "file_extension": ".py",
   "mimetype": "text/x-python",
   "name": "python",
   "nbconvert_exporter": "python",
   "pygments_lexer": "ipython2",
   "version": "2.7.6"
  },
  "kernelspec": {
   "name": "python3",
   "language": "python",
   "display_name": "Python 3"
  },
  "pycharm": {
   "stem_cell": {
    "cell_type": "raw",
    "source": [],
    "metadata": {
     "collapsed": false
    }
   }
  }
 },
 "nbformat": 4,
 "nbformat_minor": 0
}