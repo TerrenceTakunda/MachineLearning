{
 "cells": [
  {
   "cell_type": "code",
   "execution_count": 1,
   "metadata": {
    "collapsed": true,
    "pycharm": {
     "is_executing": false
    }
   },
   "outputs": [],
   "source": [
    "import pandas as pd\n",
    "import numpy as np\n",
    "import matplotlib.pyplot as plt\n",
    "from sklearn.model_selection import train_test_split\n",
    "from sklearn.tree import DecisionTreeClassifier\n",
    "from sklearn.metrics import classification_report, confusion_matrix\n",
    "from sklearn.ensemble import RandomForestClassifier\n",
    "\n",
    "%matplotlib inline"
   ]
  },
  {
   "cell_type": "code",
   "execution_count": 2,
   "outputs": [
    {
     "data": {
      "text/plain": "   int_rate  installment  open_acc  revol_bal  revol_util  total_acc  \\\n0     10.65       162.87         3      13648        83.7          9   \n1     15.27        59.83         3       1687         9.4          4   \n2     15.96        84.33         2       2956        98.5         10   \n3     13.49       339.31        10       5598        21.0         37   \n4      7.90       156.46         9       7963        28.3         12   \n\n   bad_loans  grade_num  \n0          0          5  \n1          1          4  \n2          0          4  \n3          0          4  \n4          0          6  ",
      "text/html": "<div>\n<style scoped>\n    .dataframe tbody tr th:only-of-type {\n        vertical-align: middle;\n    }\n\n    .dataframe tbody tr th {\n        vertical-align: top;\n    }\n\n    .dataframe thead th {\n        text-align: right;\n    }\n</style>\n<table border=\"1\" class=\"dataframe\">\n  <thead>\n    <tr style=\"text-align: right;\">\n      <th></th>\n      <th>int_rate</th>\n      <th>installment</th>\n      <th>open_acc</th>\n      <th>revol_bal</th>\n      <th>revol_util</th>\n      <th>total_acc</th>\n      <th>bad_loans</th>\n      <th>grade_num</th>\n    </tr>\n  </thead>\n  <tbody>\n    <tr>\n      <th>0</th>\n      <td>10.65</td>\n      <td>162.87</td>\n      <td>3</td>\n      <td>13648</td>\n      <td>83.7</td>\n      <td>9</td>\n      <td>0</td>\n      <td>5</td>\n    </tr>\n    <tr>\n      <th>1</th>\n      <td>15.27</td>\n      <td>59.83</td>\n      <td>3</td>\n      <td>1687</td>\n      <td>9.4</td>\n      <td>4</td>\n      <td>1</td>\n      <td>4</td>\n    </tr>\n    <tr>\n      <th>2</th>\n      <td>15.96</td>\n      <td>84.33</td>\n      <td>2</td>\n      <td>2956</td>\n      <td>98.5</td>\n      <td>10</td>\n      <td>0</td>\n      <td>4</td>\n    </tr>\n    <tr>\n      <th>3</th>\n      <td>13.49</td>\n      <td>339.31</td>\n      <td>10</td>\n      <td>5598</td>\n      <td>21.0</td>\n      <td>37</td>\n      <td>0</td>\n      <td>4</td>\n    </tr>\n    <tr>\n      <th>4</th>\n      <td>7.90</td>\n      <td>156.46</td>\n      <td>9</td>\n      <td>7963</td>\n      <td>28.3</td>\n      <td>12</td>\n      <td>0</td>\n      <td>6</td>\n    </tr>\n  </tbody>\n</table>\n</div>"
     },
     "metadata": {},
     "output_type": "execute_result",
     "execution_count": 2
    }
   ],
   "source": [
    "loans = pd.read_csv(\"/home/terrence/Projects/PycharmProjects/MachineLeaningTut/data/lending_club_data01.csv\")\n",
    "loans.head()"
   ],
   "metadata": {
    "collapsed": false,
    "pycharm": {
     "name": "#%%\n",
     "is_executing": false
    }
   }
  },
  {
   "cell_type": "code",
   "execution_count": 3,
   "outputs": [
    {
     "data": {
      "text/plain": "   int_rate  installment  open_acc  revol_bal  revol_util  total_acc  \\\n0     10.65       162.87         3      13648        83.7          9   \n1     15.27        59.83         3       1687         9.4          4   \n2     15.96        84.33         2       2956        98.5         10   \n3     13.49       339.31        10       5598        21.0         37   \n4      7.90       156.46         9       7963        28.3         12   \n\n   bad_loans  grade_num good_loans  \n0          0          5        yes  \n1          1          4         no  \n2          0          4        yes  \n3          0          4        yes  \n4          0          6        yes  ",
      "text/html": "<div>\n<style scoped>\n    .dataframe tbody tr th:only-of-type {\n        vertical-align: middle;\n    }\n\n    .dataframe tbody tr th {\n        vertical-align: top;\n    }\n\n    .dataframe thead th {\n        text-align: right;\n    }\n</style>\n<table border=\"1\" class=\"dataframe\">\n  <thead>\n    <tr style=\"text-align: right;\">\n      <th></th>\n      <th>int_rate</th>\n      <th>installment</th>\n      <th>open_acc</th>\n      <th>revol_bal</th>\n      <th>revol_util</th>\n      <th>total_acc</th>\n      <th>bad_loans</th>\n      <th>grade_num</th>\n      <th>good_loans</th>\n    </tr>\n  </thead>\n  <tbody>\n    <tr>\n      <th>0</th>\n      <td>10.65</td>\n      <td>162.87</td>\n      <td>3</td>\n      <td>13648</td>\n      <td>83.7</td>\n      <td>9</td>\n      <td>0</td>\n      <td>5</td>\n      <td>yes</td>\n    </tr>\n    <tr>\n      <th>1</th>\n      <td>15.27</td>\n      <td>59.83</td>\n      <td>3</td>\n      <td>1687</td>\n      <td>9.4</td>\n      <td>4</td>\n      <td>1</td>\n      <td>4</td>\n      <td>no</td>\n    </tr>\n    <tr>\n      <th>2</th>\n      <td>15.96</td>\n      <td>84.33</td>\n      <td>2</td>\n      <td>2956</td>\n      <td>98.5</td>\n      <td>10</td>\n      <td>0</td>\n      <td>4</td>\n      <td>yes</td>\n    </tr>\n    <tr>\n      <th>3</th>\n      <td>13.49</td>\n      <td>339.31</td>\n      <td>10</td>\n      <td>5598</td>\n      <td>21.0</td>\n      <td>37</td>\n      <td>0</td>\n      <td>4</td>\n      <td>yes</td>\n    </tr>\n    <tr>\n      <th>4</th>\n      <td>7.90</td>\n      <td>156.46</td>\n      <td>9</td>\n      <td>7963</td>\n      <td>28.3</td>\n      <td>12</td>\n      <td>0</td>\n      <td>6</td>\n      <td>yes</td>\n    </tr>\n  </tbody>\n</table>\n</div>"
     },
     "metadata": {},
     "output_type": "execute_result",
     "execution_count": 3
    }
   ],
   "source": [
    "loans['good_loans'] = loans['bad_loans'].apply(lambda y: 'yes' if y==0 else 'no')\n",
    "loans.head()"
   ],
   "metadata": {
    "collapsed": false,
    "pycharm": {
     "name": "#%%\n",
     "is_executing": false
    }
   }
  },
  {
   "cell_type": "code",
   "execution_count": 4,
   "outputs": [
    {
     "name": "stdout",
     "text": [
      "<class 'pandas.core.frame.DataFrame'>\nRangeIndex: 1468 entries, 0 to 1467\nData columns (total 9 columns):\nint_rate       1468 non-null float64\ninstallment    1468 non-null float64\nopen_acc       1468 non-null int64\nrevol_bal      1468 non-null int64\nrevol_util     1468 non-null float64\ntotal_acc      1468 non-null int64\nbad_loans      1468 non-null int64\ngrade_num      1468 non-null int64\ngood_loans     1468 non-null object\ndtypes: float64(3), int64(5), object(1)\nmemory usage: 103.3+ KB\n"
     ],
     "output_type": "stream"
    }
   ],
   "source": [
    "loans.info()"
   ],
   "metadata": {
    "collapsed": false,
    "pycharm": {
     "name": "#%%\n",
     "is_executing": false
    }
   }
  },
  {
   "cell_type": "code",
   "execution_count": 16,
   "outputs": [
    {
     "name": "stdout",
     "text": [
      "(1468, 7) (1468,)\n"
     ],
     "output_type": "stream"
    }
   ],
   "source": [
    "X = loans.drop(['bad_loans', 'good_loans'], axis=1)\n",
    "y = loans['good_loans']\n",
    "print (X.shape, y.shape)"
   ],
   "metadata": {
    "collapsed": false,
    "pycharm": {
     "name": "#%%\n",
     "is_executing": false
    }
   }
  },
  {
   "cell_type": "code",
   "execution_count": 18,
   "outputs": [
    {
     "data": {
      "text/plain": "DecisionTreeClassifier(class_weight=None, criterion='gini', max_depth=None,\n                       max_features=None, max_leaf_nodes=None,\n                       min_impurity_decrease=0.0, min_impurity_split=None,\n                       min_samples_leaf=1, min_samples_split=2,\n                       min_weight_fraction_leaf=0.0, presort=False,\n                       random_state=None, splitter='best')"
     },
     "metadata": {},
     "output_type": "execute_result",
     "execution_count": 18
    }
   ],
   "source": [
    "X_train, X_test, y_train, y_test = train_test_split(X, y, test_size=0.2)\n",
    "\n",
    "model = DecisionTreeClassifier()\n",
    "model.fit(X_train, y_train)"
   ],
   "metadata": {
    "collapsed": false,
    "pycharm": {
     "name": "#%%\n",
     "is_executing": false
    }
   }
  },
  {
   "cell_type": "code",
   "execution_count": 21,
   "outputs": [
    {
     "name": "stdout",
     "text": [
      "[[ 16  38]\n [ 43 197]]\n"
     ],
     "output_type": "stream"
    }
   ],
   "source": [
    "prediction = model.predict(X_test)\n",
    "print(confusion_matrix(y_test, prediction))"
   ],
   "metadata": {
    "collapsed": false,
    "pycharm": {
     "name": "#%%\n",
     "is_executing": false
    }
   }
  },
  {
   "cell_type": "code",
   "execution_count": 22,
   "outputs": [
    {
     "name": "stdout",
     "text": [
      "              precision    recall  f1-score   support\n\n          no       0.27      0.30      0.28        54\n         yes       0.84      0.82      0.83       240\n\n    accuracy                           0.72       294\n   macro avg       0.55      0.56      0.56       294\nweighted avg       0.73      0.72      0.73       294\n\n"
     ],
     "output_type": "stream"
    }
   ],
   "source": [
    "print(classification_report(y_test, prediction))"
   ],
   "metadata": {
    "collapsed": false,
    "pycharm": {
     "name": "#%%\n",
     "is_executing": false
    }
   }
  },
  {
   "cell_type": "code",
   "execution_count": 2,
   "outputs": [
    {
     "traceback": [
      "\u001b[0;31m---------------------------------------------------------------------------\u001b[0m",
      "\u001b[0;31mNameError\u001b[0m                                 Traceback (most recent call last)",
      "\u001b[0;32m<ipython-input-2-43739758b3af>\u001b[0m in \u001b[0;36m<module>\u001b[0;34m\u001b[0m\n\u001b[1;32m      1\u001b[0m \u001b[0mrf_model\u001b[0m \u001b[0;34m=\u001b[0m \u001b[0mRandomForestClassifier\u001b[0m\u001b[0;34m(\u001b[0m\u001b[0mn_estimators\u001b[0m\u001b[0;34m=\u001b[0m\u001b[0;36m150\u001b[0m\u001b[0;34m)\u001b[0m\u001b[0;34m\u001b[0m\u001b[0;34m\u001b[0m\u001b[0m\n\u001b[0;32m----> 2\u001b[0;31m \u001b[0mrf_model\u001b[0m\u001b[0;34m.\u001b[0m\u001b[0mfit\u001b[0m\u001b[0;34m(\u001b[0m\u001b[0mX_train\u001b[0m\u001b[0;34m,\u001b[0m \u001b[0my_train\u001b[0m\u001b[0;34m)\u001b[0m\u001b[0;34m\u001b[0m\u001b[0;34m\u001b[0m\u001b[0m\n\u001b[0m",
      "\u001b[0;31mNameError\u001b[0m: name 'X_train' is not defined"
     ],
     "ename": "NameError",
     "evalue": "name 'X_train' is not defined",
     "output_type": "error"
    }
   ],
   "source": [
    "rf_model = RandomForestClassifier(n_estimators=150)\n",
    "rf_model.fit(X_train, y_train)"
   ],
   "metadata": {
    "collapsed": false,
    "pycharm": {
     "name": "#%% Random Forests\n",
     "is_executing": false
    }
   }
  },
  {
   "cell_type": "code",
   "execution_count": 25,
   "outputs": [
    {
     "name": "stdout",
     "text": [
      "              precision    recall  f1-score   support\n\n          no       0.22      0.04      0.06        54\n         yes       0.82      0.97      0.89       240\n\n    accuracy                           0.80       294\n   macro avg       0.52      0.50      0.48       294\nweighted avg       0.71      0.80      0.74       294\n\n"
     ],
     "output_type": "stream"
    }
   ],
   "source": [
    "rf_prediction = rf_model.predict(X_test)\n",
    "print(classification_report(y_test, rf_prediction))"
   ],
   "metadata": {
    "collapsed": false,
    "pycharm": {
     "name": "#%%\n",
     "is_executing": false
    }
   }
  },
  {
   "cell_type": "code",
   "execution_count": 26,
   "outputs": [
    {
     "name": "stdout",
     "text": [
      "[[  2  52]\n [  7 233]]\n"
     ],
     "output_type": "stream"
    }
   ],
   "source": [
    "print(confusion_matrix(y_test, rf_prediction))\n"
   ],
   "metadata": {
    "collapsed": false,
    "pycharm": {
     "name": "#%%\n",
     "is_executing": false
    }
   }
  },
  {
   "cell_type": "code",
   "execution_count": 3,
   "outputs": [
    {
     "data": {
      "text/plain": "   loan_amnt  funded_amnt  funded_amnt_inv  int_rate  installment  annual_inc  \\\n0       5000         5000             4975     10.65       162.87       24000   \n1       2500         2500             2500     15.27        59.83       30000   \n2       2400         2400             2400     15.96        84.33       12252   \n3      10000        10000            10000     13.49       339.31       49200   \n4       5000         5000             5000      7.90       156.46       36000   \n\n     dti  delinq_2yrs  inq_last_6mths  open_acc  ...  total_rec_late_fee  \\\n0  27.65            0               1         3  ...                0.00   \n1   1.00            0               5         3  ...                0.00   \n2   8.72            0               2         2  ...                0.00   \n3  20.00            0               1        10  ...               16.97   \n4  11.20            0               3         9  ...                0.00   \n\n   recoveries  collection_recovery_fee  last_pymnt_amnt  bad_loans  \\\n0        0.00                     0.00           171.62          0   \n1      117.08                     1.11           119.66          1   \n2        0.00                     0.00           649.91          0   \n3        0.00                     0.00           357.48          0   \n4        0.00                     0.00           161.03          0   \n\n   emp_length_num  grade_num  sub_grade_num  delinq_2yrs_zero  \\\n0              11          5            0.4                 1   \n1               1          4            0.8                 1   \n2              11          4            1.0                 1   \n3              11          4            0.2                 1   \n4               4          6            0.8                 1   \n\n   payment_inc_ratio  \n0            8.14350  \n1            2.39320  \n2            8.25955  \n3            8.27585  \n4            5.21533  \n\n[5 rows x 24 columns]",
      "text/html": "<div>\n<style scoped>\n    .dataframe tbody tr th:only-of-type {\n        vertical-align: middle;\n    }\n\n    .dataframe tbody tr th {\n        vertical-align: top;\n    }\n\n    .dataframe thead th {\n        text-align: right;\n    }\n</style>\n<table border=\"1\" class=\"dataframe\">\n  <thead>\n    <tr style=\"text-align: right;\">\n      <th></th>\n      <th>loan_amnt</th>\n      <th>funded_amnt</th>\n      <th>funded_amnt_inv</th>\n      <th>int_rate</th>\n      <th>installment</th>\n      <th>annual_inc</th>\n      <th>dti</th>\n      <th>delinq_2yrs</th>\n      <th>inq_last_6mths</th>\n      <th>open_acc</th>\n      <th>...</th>\n      <th>total_rec_late_fee</th>\n      <th>recoveries</th>\n      <th>collection_recovery_fee</th>\n      <th>last_pymnt_amnt</th>\n      <th>bad_loans</th>\n      <th>emp_length_num</th>\n      <th>grade_num</th>\n      <th>sub_grade_num</th>\n      <th>delinq_2yrs_zero</th>\n      <th>payment_inc_ratio</th>\n    </tr>\n  </thead>\n  <tbody>\n    <tr>\n      <th>0</th>\n      <td>5000</td>\n      <td>5000</td>\n      <td>4975</td>\n      <td>10.65</td>\n      <td>162.87</td>\n      <td>24000</td>\n      <td>27.65</td>\n      <td>0</td>\n      <td>1</td>\n      <td>3</td>\n      <td>...</td>\n      <td>0.00</td>\n      <td>0.00</td>\n      <td>0.00</td>\n      <td>171.62</td>\n      <td>0</td>\n      <td>11</td>\n      <td>5</td>\n      <td>0.4</td>\n      <td>1</td>\n      <td>8.14350</td>\n    </tr>\n    <tr>\n      <th>1</th>\n      <td>2500</td>\n      <td>2500</td>\n      <td>2500</td>\n      <td>15.27</td>\n      <td>59.83</td>\n      <td>30000</td>\n      <td>1.00</td>\n      <td>0</td>\n      <td>5</td>\n      <td>3</td>\n      <td>...</td>\n      <td>0.00</td>\n      <td>117.08</td>\n      <td>1.11</td>\n      <td>119.66</td>\n      <td>1</td>\n      <td>1</td>\n      <td>4</td>\n      <td>0.8</td>\n      <td>1</td>\n      <td>2.39320</td>\n    </tr>\n    <tr>\n      <th>2</th>\n      <td>2400</td>\n      <td>2400</td>\n      <td>2400</td>\n      <td>15.96</td>\n      <td>84.33</td>\n      <td>12252</td>\n      <td>8.72</td>\n      <td>0</td>\n      <td>2</td>\n      <td>2</td>\n      <td>...</td>\n      <td>0.00</td>\n      <td>0.00</td>\n      <td>0.00</td>\n      <td>649.91</td>\n      <td>0</td>\n      <td>11</td>\n      <td>4</td>\n      <td>1.0</td>\n      <td>1</td>\n      <td>8.25955</td>\n    </tr>\n    <tr>\n      <th>3</th>\n      <td>10000</td>\n      <td>10000</td>\n      <td>10000</td>\n      <td>13.49</td>\n      <td>339.31</td>\n      <td>49200</td>\n      <td>20.00</td>\n      <td>0</td>\n      <td>1</td>\n      <td>10</td>\n      <td>...</td>\n      <td>16.97</td>\n      <td>0.00</td>\n      <td>0.00</td>\n      <td>357.48</td>\n      <td>0</td>\n      <td>11</td>\n      <td>4</td>\n      <td>0.2</td>\n      <td>1</td>\n      <td>8.27585</td>\n    </tr>\n    <tr>\n      <th>4</th>\n      <td>5000</td>\n      <td>5000</td>\n      <td>5000</td>\n      <td>7.90</td>\n      <td>156.46</td>\n      <td>36000</td>\n      <td>11.20</td>\n      <td>0</td>\n      <td>3</td>\n      <td>9</td>\n      <td>...</td>\n      <td>0.00</td>\n      <td>0.00</td>\n      <td>0.00</td>\n      <td>161.03</td>\n      <td>0</td>\n      <td>4</td>\n      <td>6</td>\n      <td>0.8</td>\n      <td>1</td>\n      <td>5.21533</td>\n    </tr>\n  </tbody>\n</table>\n<p>5 rows × 24 columns</p>\n</div>"
     },
     "metadata": {},
     "output_type": "execute_result",
     "execution_count": 3
    }
   ],
   "source": [
    "loans = pd.read_csv(\"/home/terrence/Projects/PycharmProjects/MachineLeaningTut/data/lending_club_new_data.csv\")\n",
    "loans.head()"
   ],
   "metadata": {
    "collapsed": false,
    "pycharm": {
     "name": "#%% Using A lager dataset\n",
     "is_executing": false
    }
   }
  },
  {
   "cell_type": "code",
   "execution_count": 4,
   "outputs": [
    {
     "name": "stdout",
     "text": [
      "<class 'pandas.core.frame.DataFrame'>\nRangeIndex: 9516 entries, 0 to 9515\nData columns (total 24 columns):\nloan_amnt                  9516 non-null int64\nfunded_amnt                9516 non-null int64\nfunded_amnt_inv            9516 non-null int64\nint_rate                   9516 non-null float64\ninstallment                9516 non-null float64\nannual_inc                 9516 non-null int64\ndti                        9516 non-null float64\ndelinq_2yrs                9516 non-null int64\ninq_last_6mths             9516 non-null int64\nopen_acc                   9516 non-null int64\ntotal_pymnt                9516 non-null float64\ntotal_pymnt_inv            9516 non-null float64\ntotal_rec_prncp            9516 non-null float64\ntotal_rec_int              9516 non-null float64\ntotal_rec_late_fee         9516 non-null float64\nrecoveries                 9516 non-null float64\ncollection_recovery_fee    9516 non-null float64\nlast_pymnt_amnt            9516 non-null float64\nbad_loans                  9516 non-null int64\nemp_length_num             9516 non-null int64\ngrade_num                  9516 non-null int64\nsub_grade_num              9516 non-null float64\ndelinq_2yrs_zero           9516 non-null int64\npayment_inc_ratio          9516 non-null float64\ndtypes: float64(13), int64(11)\nmemory usage: 1.7 MB\n"
     ],
     "output_type": "stream"
    }
   ],
   "source": [
    "loans.info()"
   ],
   "metadata": {
    "collapsed": false,
    "pycharm": {
     "name": "#%%\n",
     "is_executing": false
    }
   }
  },
  {
   "cell_type": "code",
   "execution_count": 6,
   "outputs": [
    {
     "name": "stdout",
     "text": [
      "[[ 313    9]\n [   5 1577]]\n",
      "              precision    recall  f1-score   support\n\n          no       0.98      0.97      0.98       322\n         yes       0.99      1.00      1.00      1582\n\n    accuracy                           0.99      1904\n   macro avg       0.99      0.98      0.99      1904\nweighted avg       0.99      0.99      0.99      1904\n\n"
     ],
     "output_type": "stream"
    }
   ],
   "source": [
    "loans['good_loans'] = loans['bad_loans'].apply(lambda y: 'yes' if y==0 else 'no')\n",
    "X = loans.drop(['bad_loans', 'good_loans'], axis=1)\n",
    "y = loans['good_loans']\n",
    "X_train, X_test, y_train, y_test = train_test_split(X, y, test_size=0.2, random_state=123)\n",
    "\n",
    "model = DecisionTreeClassifier()\n",
    "model.fit(X_train, y_train)\n",
    "prediction = model.predict(X_test)\n",
    "print(confusion_matrix(y_test, prediction))\n",
    "print(classification_report(y_test, prediction))\n"
   ],
   "metadata": {
    "collapsed": false,
    "pycharm": {
     "name": "#%%\n",
     "is_executing": false
    }
   }
  },
  {
   "cell_type": "code",
   "execution_count": 7,
   "outputs": [
    {
     "name": "stdout",
     "text": [
      "              precision    recall  f1-score   support\n\n          no       1.00      0.97      0.98       322\n         yes       0.99      1.00      1.00      1582\n\n    accuracy                           0.99      1904\n   macro avg       1.00      0.98      0.99      1904\nweighted avg       0.99      0.99      0.99      1904\n\n[[ 312   10]\n [   0 1582]]\n"
     ],
     "output_type": "stream"
    }
   ],
   "source": [
    "rf_model = RandomForestClassifier(n_estimators=150)\n",
    "rf_model.fit(X_train, y_train)\n",
    "rf_prediction = rf_model.predict(X_test)\n",
    "print(classification_report(y_test, rf_prediction))\n",
    "print(confusion_matrix(y_test, rf_prediction))\n",
    "\n"
   ],
   "metadata": {
    "collapsed": false,
    "pycharm": {
     "name": "#%% Large Dataset with Random Forest\n",
     "is_executing": false
    }
   }
  }
 ],
 "metadata": {
  "language_info": {
   "codemirror_mode": {
    "name": "ipython",
    "version": 2
   },
   "file_extension": ".py",
   "mimetype": "text/x-python",
   "name": "python",
   "nbconvert_exporter": "python",
   "pygments_lexer": "ipython2",
   "version": "2.7.6"
  },
  "kernelspec": {
   "name": "python3",
   "language": "python",
   "display_name": "Python 3"
  },
  "pycharm": {
   "stem_cell": {
    "cell_type": "raw",
    "source": [],
    "metadata": {
     "collapsed": false
    }
   }
  }
 },
 "nbformat": 4,
 "nbformat_minor": 0
}