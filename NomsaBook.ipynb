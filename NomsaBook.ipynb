{
 "cells": [
  {
   "cell_type": "code",
   "execution_count": 14,
   "outputs": [
    {
     "data": {
      "text/plain": "['',\n \" 1\\nGetting inspired to create a richer, more rewarding life is nearly impossible if you don't first take time to add a bit of peace, connection, and balance to your life. The steps below will help you do just that.\\nCreate a Mantra\\nWhen the stress begins to build, repeating a personal mantra will work wonders to return you to a state of peace and calm. While many mantras revolve around religion, this is by no means a requirement.\\n\\n\\n\",\n ' 2\\nShort phrases such as \"I am in control\" or \"This too shall pass\" can work just as effectively. The only requirement is that it works for you.\\nFocus on the Moment\\nIn times like these, the multitasker is king - or queen. And this may be part of the problem. You may be able to split your focus among more than one task, but this could end up splitting your efficiency and peace of mind as well.\\n\\nWhatever you do, try to focus intently on that one thing. Have to prepare breakfast? Listen to the sizzle of the sausage in the pan, the feel of the fork in your hand, and the taste of each bite you take.\\nOrganize your Environment\\nThe space around you if often a strong indicator of what\\'s happening inside you. A cluttered or disorganized home or office makes for just as much clutter and disorder in your mind.\\n\\n\\n',\n \" 3\\nTo steer clear of the chaos and confusion, spend five minutes every day cleaning up or clearing out the easiest targets for clutter accumulation in your home or office. Junk mail continue to pile up on the kitchen counter? Miscellaneous items always end up on your night stand? Now's the time to clear the clutter.\\n\\nDiscover over 1,000 quick, easy, and proven tips and ideas to help you get and stay motivated - in minutes! Visit:\\nhttp://www.motivation123.com/prd-mim.html\\n\\nDo Something for Someone Else\\nWith so much thought consumed by personal matters, it can be easy to overlook the problems of others. This not only keeps you from lending a hand to those in need but also from experiencing a sense of contribution and connection only possible through doing something for someone else.\\n\\n\\n\",\n \" 4\\nHost a blood or food drive, volunteer at the local library, or share the gift of literacy with those who can't yet read. Don't have the time for a major commitment, gather extra clothes or blankets and donate them to your local shelter or the Salvation Army.\\n\\nDo Something for Yourself\\nAs strange as it may sound, people often have a much harder time with this task than with doing something for others. Our gut reaction is to feel a sense of guilt or selfishness when it comes to taking care of ourselves, but there's nothing selfish about it. If you don't tend to your own needs and wants, you can't begin to be there for someone else.\\n\\nCreate a list of ten ways with which to treat yourself. Do you love spending a few hours reading without interruption? A game of pick-up basketball at the gym? Perhaps a day at the spa? When the time comes for a quick recharge, pick an item from your list and enjoy.\\n\\n\\n\",\n \" 5\\nTurn Up the Quiet\\nLife is full of noise. Everywhere you go, something is beeping, blaring, or bopping its way into your ears. Not only does this overabundance of noise create mental and physical stress but it also keeps out the soothing sounds of the natural world around you.\\n\\nFor thirty minutes each day, turn off every appliance, machine, and piece of equipment in your home. No television, no stereo, not even your dishwasher. You'll quickly find a little time spent in silence will help to ease your nerves and give you the chance to finally get in touch with your thoughts.\\n\\nPractice Patience\\nPerhaps the most difficult tip to pull off, but also the most beneficial, is bringing a sense of patience and acceptance into your life. If you tried hard enough, you could easily find something to complain about twenty-four hours a day, but at the end of the day you wouldn't be any better off - things would actually be worse.\\n\\n\\n\",\n \" 6\\nWhen you encounter a situation that tests your patience, focus first on how you can improve upon it. If you can't, accept the facts and move on. Getting upset wastes every ounce of your energy that could be spent making things better. The next time you're stuck in line or trapped in a traffic jam, think only about how you can make the situation better. If no solution comes to mind, accept it with patience and understanding.\\n\\nWith these steps in place, you'll have the peace of mind and balance you need to take your life to the next level, to do the things you've always wanted to do and experience the life you've always wanted to live.\\n\\nAnd after five years of searching for the answer, we've discovered a simple method to making sure all of the goals and dreams you set are achieved on schedule without ever relying on willpower or self-discipline.\\n\\nIt's made up of just six short steps. When you put them to work, the energy, confidence, and drive you need are there in an instant. Leave just one out, and success is literally impossible. To discover what they are and exactly how to put them to use in your life, visit the address below.\\n\"]"
     },
     "metadata": {},
     "output_type": "execute_result",
     "execution_count": 14
    }
   ],
   "source": [
    "file_path = 'C:\\\\Users\\\\Terrence\\\\PycharmProjects\\\\MachineLearning\\\\DataSets\\\\Nomsa_book.txt'\n",
    "with open(file_path) as f:\n",
    "    nomsa_book = f.read()\n",
    "chapter_list = nomsa_book.split('CHAPTER')\n",
    "chapter_list"
   ],
   "metadata": {
    "collapsed": false,
    "pycharm": {
     "name": "#%%\n",
     "is_executing": false
    }
   }
  },
  {
   "cell_type": "code",
   "execution_count": 15,
   "outputs": [
    {
     "data": {
      "text/plain": "str"
     },
     "metadata": {},
     "output_type": "execute_result",
     "execution_count": 15
    }
   ],
   "source": [
    "chapter_1 = chapter_list[1]\n",
    "type(chapter_1)\n"
   ],
   "metadata": {
    "collapsed": false,
    "pycharm": {
     "name": "#%%\n",
     "is_executing": false
    }
   }
  }
 ],
 "metadata": {
  "language_info": {
   "codemirror_mode": {
    "name": "ipython",
    "version": 2
   },
   "file_extension": ".py",
   "mimetype": "text/x-python",
   "name": "python",
   "nbconvert_exporter": "python",
   "pygments_lexer": "ipython2",
   "version": "2.7.6"
  },
  "kernelspec": {
   "name": "python3",
   "language": "python",
   "display_name": "Python 3"
  },
  "pycharm": {
   "stem_cell": {
    "cell_type": "raw",
    "source": [],
    "metadata": {
     "collapsed": false
    }
   }
  }
 },
 "nbformat": 4,
 "nbformat_minor": 0
}