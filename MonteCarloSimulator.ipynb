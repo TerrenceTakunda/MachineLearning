{
 "cells": [
  {
   "cell_type": "code",
   "execution_count": 5,
   "metadata": {
    "collapsed": true,
    "pycharm": {
     "is_executing": false
    }
   },
   "outputs": [
    {
     "name": "stderr",
     "text": [
      "UsageError: Line magic function `%matplotlib.inline` not found.\n"
     ],
     "output_type": "stream"
    }
   ],
   "source": [
    "import numpy as np\n",
    "import matplotlib.pyplot as plt\n",
    "\n",
    "%matplotlib.inline"
   ]
  },
  {
   "cell_type": "code",
   "execution_count": 3,
   "outputs": [],
   "source": [
    "class Configuration:\n",
    "     def __init__(self, NumberOfScenarios, NumberOfTimesteps):\n",
    "         self.NumberOfScenarios=NumberOfScenarios \n",
    "         self.NumberOfTimesteps = NumberOfTimesteps"
   ],
   "metadata": {
    "collapsed": false,
    "pycharm": {
     "name": "#%%\n",
     "is_executing": false
    }
   }
  },
  {
   "cell_type": "code",
   "execution_count": 4,
   "outputs": [],
   "source": [
    "class OptionTrade:\n",
    "  def __init__(self, stock_price, strike_price, risk_free_rate,    volatility, time_to_maturity):\n",
    "        self.stock_price=stock_price\n",
    "        self.strike_price=strike_price\n",
    "        self.risk_free_rate=risk_free_rate\n",
    "        self.volatility=volatility\n",
    "        self.time_to_maturity = time_to_maturity"
   ],
   "metadata": {
    "collapsed": false,
    "pycharm": {
     "name": "#%%\n",
     "is_executing": false
    }
   }
  },
  {
   "cell_type": "code",
   "execution_count": 6,
   "outputs": [],
   "source": [
    "class GBMModel:\n",
    "    def __init__(self, Configuration):\n",
    "        self.Configuration = Configuration\n",
    "        \n",
    "    #simulate risk factors using GBM stochastic differential equation\n",
    "    def SimulateRiskFactor(self, trade):\n",
    "        prices = []\n",
    "        # for this example, we only are concerned with one time step as it’s an European option\n",
    "        timestep = 1\n",
    "        for scenarioNumber in range(self.Configuration.NumberOfScenarios):\n",
    "            normal_random_number = np.random.normal(0, 1)           \n",
    "            drift = (trade.risk_free_rate-0.5*(trade.volatility**2)) *timestep\n",
    "            \n",
    "            uncertainty = trade.volatility*np.sqrt(timestep)*normal_random_number\n",
    "\n",
    "            price = trade.stock_price * np.exp(drift+uncertainty)\n",
    "            prices.append(price)    \n",
    "        return prices"
   ],
   "metadata": {
    "collapsed": false,
    "pycharm": {
     "name": "#%%\n",
     "is_executing": false
    }
   }
  },
  {
   "cell_type": "code",
   "execution_count": 7,
   "outputs": [],
   "source": [
    "class OptionTradePayoffPricer:\n",
    "    def CalculatePrice(self, trade, prices_per_scenario):\n",
    "        pay_offs = 0\n",
    "        total_scenarios = len(prices_per_scenario)\n",
    "        for i in range(total_scenarios):\n",
    "            price = prices_per_scenario[i]\n",
    "            pay_off = price - trade.strike_price\n",
    "            if(pay_off>0): \n",
    "                pay_offs=pay_offs+pay_off\n",
    "        \n",
    "        discounted_price = (np.exp(-1.0*trade.risk_free_rate * trade.time_to_maturity)*pay_offs)\n",
    "        result = discounted_price/total_scenarios\n",
    "        return result"
   ],
   "metadata": {
    "collapsed": false,
    "pycharm": {
     "name": "#%%\n",
     "is_executing": false
    }
   }
  },
  {
   "cell_type": "code",
   "execution_count": 8,
   "outputs": [],
   "source": [
    "def plot_scenario_paths(prices_per_scenario, trade):\n",
    "     x=[]\n",
    "     y=[]\n",
    "     for i in prices_per_scenario:\n",
    "        y.append(i)\n",
    "        y.append(trade.stock_price)\n",
    "        x.append(1)            \n",
    "        x.append(0)            \n",
    "        plt.plot(x, y)      \n",
    "     plt.ylabel('Stock Value')\n",
    "     plt.xlabel('Timestep')\n",
    "     plt.show()"
   ],
   "metadata": {
    "collapsed": false,
    "pycharm": {
     "name": "#%%\n",
     "is_executing": false
    }
   }
  },
  {
   "cell_type": "code",
   "execution_count": null,
   "outputs": [],
   "source": [
    "class MonteCarloEngineSimulator:\n",
    "    \n",
    "    #instationate with configuration and the model\n",
    "    def __init__(self, configuration, model):\n",
    "        self.configuration = configuration\n",
    "        self.model = model\n",
    "        \n",
    "    #simulate trade and calculate price    \n",
    "    def Simulate(self, trade, tradePricer):\n",
    "        prices_per_scenario = self.model.SimulateRiskFactor(trade)\n",
    "        #plot scenarios\n",
    "        plot_scenario_paths(prices_per_scenario, trade)\n",
    "        price = tradePricer.CalculatePrice(trade, prices_per_scenario)\n",
    "        \n",
    "        return price"
   ],
   "metadata": {
    "collapsed": false,
    "pycharm": {
     "name": "#%%\n"
    }
   }
  },
  {
   "cell_type": "code",
   "execution_count": null,
   "outputs": [],
   "source": [
    "\n"
   ],
   "metadata": {
    "collapsed": false,
    "pycharm": {
     "name": "#%%\n"
    }
   }
  }
 ],
 "metadata": {
  "language_info": {
   "codemirror_mode": {
    "name": "ipython",
    "version": 2
   },
   "file_extension": ".py",
   "mimetype": "text/x-python",
   "name": "python",
   "nbconvert_exporter": "python",
   "pygments_lexer": "ipython2",
   "version": "2.7.6"
  },
  "kernelspec": {
   "name": "python3",
   "language": "python",
   "display_name": "Python 3"
  },
  "pycharm": {
   "stem_cell": {
    "cell_type": "raw",
    "source": [],
    "metadata": {
     "collapsed": false
    }
   }
  }
 },
 "nbformat": 4,
 "nbformat_minor": 0
}